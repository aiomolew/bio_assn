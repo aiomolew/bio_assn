{
 "cells": [
  {
   "cell_type": "code",
   "execution_count": 1,
   "metadata": {},
   "outputs": [],
   "source": [
    "import re"
   ]
  },
  {
   "cell_type": "code",
   "execution_count": 2,
   "metadata": {},
   "outputs": [
    {
     "name": "stdout",
     "output_type": "stream",
     "text": [
      "\\t\\n\n"
     ]
    }
   ],
   "source": [
    "# Raw Strings\n",
    "print(r\"\\t\\n\")"
   ]
  },
  {
   "cell_type": "code",
   "execution_count": 3,
   "metadata": {},
   "outputs": [],
   "source": [
    "dna = \"ATCGCGAATTCAC\""
   ]
  },
  {
   "cell_type": "code",
   "execution_count": 4,
   "metadata": {},
   "outputs": [
    {
     "name": "stdout",
     "output_type": "stream",
     "text": [
      "restriction site found\n"
     ]
    }
   ],
   "source": [
    "# Searchimg for a pattern in a string\n",
    "# Simple search\n",
    "dna = \"ATCGCGAATTCAC\"\n",
    "if re.search(r\"GAATTC\", dna):\n",
    "    print(\"restriction site found\")\n",
    "else:\n",
    "    print(\"restriction site not found\")"
   ]
  },
  {
   "cell_type": "code",
   "execution_count": 10,
   "metadata": {},
   "outputs": [
    {
     "name": "stdout",
     "output_type": "stream",
     "text": [
      "restriction site not found\n"
     ]
    }
   ],
   "source": [
    "# Searchimg for a pattern in a string\n",
    "# Alternation\n",
    "dna = \"ATCGCGAATTCAC\"\n",
    "if re.search(r\"GGACC\", dna) or re.search(r\"GGTCC\", dna):\n",
    "    print(\"restriction site found\")\n",
    "else:\n",
    "    print(\"restriction site not found\")\n",
    "    "
   ]
  },
  {
   "cell_type": "code",
   "execution_count": 8,
   "metadata": {},
   "outputs": [
    {
     "name": "stdout",
     "output_type": "stream",
     "text": [
      "restriction site not found\n"
     ]
    }
   ],
   "source": [
    "# Searchimg for a pattern in a string\n",
    "# Alternation - concise and preferrable\n",
    "dna = \"ATCGCGAATTCAC\"\n",
    "if re.search(r\"GG(A|T)CC\", dna):\n",
    "    print(\"restriction site found\")\n",
    "else:\n",
    "    print(\"restriction site not found\")"
   ]
  },
  {
   "cell_type": "code",
   "execution_count": 9,
   "metadata": {},
   "outputs": [
    {
     "name": "stdout",
     "output_type": "stream",
     "text": [
      "restriction site not found\n"
     ]
    }
   ],
   "source": [
    "# Searchimg for a pattern in a string\n",
    "# Character groups\n",
    "dna = \"ATCGCGAATTCAC\"\n",
    "if re.search(r\"GC(A|T|G|C)GC\", dna):\n",
    "    print(\"restriction site found\")\n",
    "else:\n",
    "    print(\"restriction site not found\")"
   ]
  },
  {
   "cell_type": "code",
   "execution_count": 11,
   "metadata": {},
   "outputs": [
    {
     "name": "stdout",
     "output_type": "stream",
     "text": [
      "restriction site not found\n"
     ]
    }
   ],
   "source": [
    "# Searchimg for a pattern in a string\n",
    "# Character groups -Concise\n",
    "dna = \"ATCGCGAATTCAC\"\n",
    "if re.search(r\"GC[ATGC]GC\", dna):\n",
    "    print(\"restriction site found\")\n",
    "else:\n",
    "    print(\"restriction site not found\")"
   ]
  },
  {
   "cell_type": "code",
   "execution_count": 13,
   "metadata": {},
   "outputs": [
    {
     "name": "stdout",
     "output_type": "stream",
     "text": [
      "restriction site found\n"
     ]
    }
   ],
   "source": [
    "# Searchimg for a pattern in a string\n",
    "# Finding all Characters using the period (.)\n",
    "dna = \"ATCGCGAATTCAC\"\n",
    "if re.search(r\"GC.AA\", dna):\n",
    "    print(\"restriction site found\")\n",
    "else:\n",
    "    print(\"restriction site not found\")"
   ]
  },
  {
   "cell_type": "code",
   "execution_count": 14,
   "metadata": {},
   "outputs": [
    {
     "name": "stdout",
     "output_type": "stream",
     "text": [
      "restriction site not found\n"
     ]
    }
   ],
   "source": [
    "# Searchimg for a pattern in a string\n",
    "# Specify characters we don't want in a search by [^XYZ]\n",
    "dna = \"ATCGCGAATTCAC\"\n",
    "if re.search(r\"GC[^ATGC]AA\", dna):\n",
    "    print(\"restriction site found\")\n",
    "else:\n",
    "    print(\"restriction site not found\")"
   ]
  },
  {
   "cell_type": "markdown",
   "metadata": {},
   "source": [
    "#### Quantifier\n",
    "\n",
    "? ---> means character or group of characters are optional. Can match either **zero or one time**. \n",
    "\n",
    "Example: GAT?C (T is optional) matches GATC or GAC. GGGG(AAA)?TTT (three As are optional) matches  GGGAAATTT or GGGTTT\n",
    "\n",
    "\\+ ---> mean a character or group of character **must** be present and cna be reapeated any number of time. It will match **one or more times**. \n",
    "\n",
    "Example: GGGA+TTT will match 3 Gs one or more As followed by 3 Ts. Will match GGGATTT, GGGAATTT, GGGAAATTT, etc. but not GGGTTT.\n",
    "\n",
    "\\* --->  mean a character or group of character is optional but can also be repeated. it will match **zero or more times**. \n",
    "Example: GGGA\\*TTT will match  GGGTTT, GGGATTT, GGGAAATTT, etc.\n",
    "\n",
    "\n",
    "#### Specify the number of repeat\n",
    "GA{A}T will match GAAAAAT. Repeats A five times\n",
    "\n",
    "GA{2,4}T will match GAAT, GAAAT and GAAAAT.\n",
    "\n",
    "#### Position\n",
    "^ matches the start of string. ^AAA will match AAATTT not GGGAAATTT \n",
    "\n",
    "$ matches the end of a string\n",
    "\n",
    "#### Combining\n",
    "\n",
    "^ATG[ATGC]{30, 1000}A{5, 10}$\n",
    "\n",
    "Will match\n",
    "\n",
    "* An ATG start at the beginning of the sequence\n",
    "\n",
    "* followed by between 30 and 1000 bases of A, T, G or C\n",
    "\n",
    "* Followed by poly-A tail of between 5 and 10 at the end of the sequence.\n",
    "\n"
   ]
  },
  {
   "cell_type": "code",
   "execution_count": 16,
   "metadata": {},
   "outputs": [
    {
     "name": "stdout",
     "output_type": "stream",
     "text": [
      "GACGTAC\n"
     ]
    }
   ],
   "source": [
    "# Extracting the part of the string that matched\n",
    "dna = \"ATGACGTACGTACGACTGC\"\n",
    "# store the match object in a variable m\n",
    "m = re.search(r\"GA[ATGC]{3}AC\", dna)\n",
    "print(m.group())"
   ]
  },
  {
   "cell_type": "code",
   "execution_count": 20,
   "metadata": {},
   "outputs": [
    {
     "name": "stdout",
     "output_type": "stream",
     "text": [
      "entire match: GACGTACGTAC\n",
      "first bit: CGT\n",
      "second bit: GT\n"
     ]
    }
   ],
   "source": [
    "# Extracting the part of the string that matched\n",
    "# Capturing\n",
    "dna = \"ATGACGTACGTACGACTGC\"\n",
    "# store the match object in a variable m\n",
    "m = re.search(r\"GA([ATGC]{3})AC([ATGC]{2})AC\", dna)\n",
    "print(\"entire match: \" + m.group())\n",
    "print(\"first bit: \" + m.group(1))\n",
    "print(\"second bit: \" + m.group(2))"
   ]
  },
  {
   "cell_type": "code",
   "execution_count": 22,
   "metadata": {},
   "outputs": [
    {
     "name": "stdout",
     "output_type": "stream",
     "text": [
      "start: 2\n",
      "end: 13\n",
      "group one start: 4\n",
      "group one end: 7\n",
      "group two start: 9\n",
      "group two end: 11\n"
     ]
    }
   ],
   "source": [
    "# Getting the position of a match\n",
    "dna = \"ATGACGTACGTACGACTGC\"\n",
    "# store the match object in a variable m\n",
    "m = re.search(r\"GA([ATGC]{3})AC([ATGC]{2})AC\", dna)\n",
    "print(\"start: \" + str(m.start()))\n",
    "print(\"end: \" + str(m.end()))\n",
    "print(\"group one start: \" + str(m.start(1)))\n",
    "print(\"group one end: \" + str(m.end(1)))\n",
    "print(\"group two start: \" + str(m.start(2)))\n",
    "print(\"group two end: \" + str(m.end(2)))"
   ]
  },
  {
   "cell_type": "code",
   "execution_count": 23,
   "metadata": {},
   "outputs": [
    {
     "name": "stdout",
     "output_type": "stream",
     "text": [
      "['ACT', 'GCAT', 'GCTACGT', 'ACGAT', 'CGA', 'TCG']\n"
     ]
    }
   ],
   "source": [
    "# Splitting a string using regular expression\n",
    "dna = \"ACTNGCATRGCTACGTYACGATSCGAWTCG\"\n",
    "\n",
    "runs = re.split(r\"[^ATCG]\", dna)\n",
    "print(runs)\n"
   ]
  },
  {
   "cell_type": "code",
   "execution_count": 24,
   "metadata": {},
   "outputs": [
    {
     "name": "stdout",
     "output_type": "stream",
     "text": [
      "['ATTATAT', 'AAAATTATA']\n"
     ]
    }
   ],
   "source": [
    "# Finding multiple matches using re.findall method.\n",
    "# This does not give the start and end position of the matches\n",
    "dna = \"ACTGCATTATATCGTACGAAAATTATACGCGCG\"\n",
    "runs = re.findall(r\"[AT]{4,100}\", dna)\n",
    "print(runs)"
   ]
  },
  {
   "cell_type": "code",
   "execution_count": 26,
   "metadata": {},
   "outputs": [
    {
     "name": "stdout",
     "output_type": "stream",
     "text": [
      "AT rich region from 5 to 12\n",
      "AT rich region from 18 to 27\n"
     ]
    }
   ],
   "source": [
    "# Finding multiple matches using re.finditer \n",
    "dna = \"ACTGCATTATATCGTACGAAAATTATACGCGCG\"\n",
    "runs = re.finditer(r\"[AT]{3,100}\", dna)\n",
    "for match in runs:\n",
    "    run_start = match.start()\n",
    "    run_end = match.end()\n",
    "    print(\"AT rich region from \" + str(run_start) + \" to \" + str(run_end))"
   ]
  },
  {
   "cell_type": "code",
   "execution_count": null,
   "metadata": {},
   "outputs": [],
   "source": []
  }
 ],
 "metadata": {
  "kernelspec": {
   "display_name": "Python 3",
   "language": "python",
   "name": "python3"
  },
  "language_info": {
   "codemirror_mode": {
    "name": "ipython",
    "version": 3
   },
   "file_extension": ".py",
   "mimetype": "text/x-python",
   "name": "python",
   "nbconvert_exporter": "python",
   "pygments_lexer": "ipython3",
   "version": "3.7.6"
  }
 },
 "nbformat": 4,
 "nbformat_minor": 4
}
